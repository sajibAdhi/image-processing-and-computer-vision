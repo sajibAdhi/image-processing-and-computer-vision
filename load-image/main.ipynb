{
  "cells": [
    {
      "cell_type": "code",
      "execution_count": 4,
      "metadata": {
        "colab": {
          "base_uri": "https://localhost:8080/",
          "height": 739
        },
        "id": "0YkEGuse_8cD",
        "outputId": "26faaee5-7f77-475c-c6d4-e314c5985ad6"
      },
      "outputs": [],
      "source": [
        "import cv2\n",
        "#in google.cloab you need to import cv2_imshow\n",
        "#from google.colab.patches import cv2_imshow"
      ]
    },
    {
      "cell_type": "code",
      "execution_count": 10,
      "metadata": {},
      "outputs": [
        {
          "name": "stdout",
          "output_type": "stream",
          "text": [
            "[[253 253 253 ... 253 253 253]\n",
            " [253 253 253 ... 253 253 253]\n",
            " [253 253 253 ... 253 253 253]\n",
            " ...\n",
            " [253 253 253 ... 253 253 253]\n",
            " [253 253 253 ... 253 253 253]\n",
            " [253 253 253 ... 253 253 253]]\n"
          ]
        }
      ],
      "source": [
        "filepath =  r'D:/xampp/htdocs/work/image-processing-and-computer-vision/assets/car/1.jpg'\n",
        "img = cv2.imread(filepath, cv2.IMREAD_GRAYSCALE)\n",
        "print(img)"
      ]
    },
    {
      "cell_type": "code",
      "execution_count": 11,
      "metadata": {},
      "outputs": [
        {
          "data": {
            "text/plain": [
              "-1"
            ]
          },
          "execution_count": 11,
          "metadata": {},
          "output_type": "execute_result"
        }
      ],
      "source": [
        "cv2.imshow('image-window',img)\n",
        "cv2.waitKey(2000)"
      ]
    },
    {
      "cell_type": "code",
      "execution_count": 12,
      "metadata": {
        "colab": {
          "base_uri": "https://localhost:8080/"
        },
        "id": "qry_HC9PBESL",
        "outputId": "2199433b-b30b-4836-bae5-ec702543d7a6"
      },
      "outputs": [
        {
          "name": "stdout",
          "output_type": "stream",
          "text": [
            "255\n",
            "0\n",
            "(144, 303)\n"
          ]
        }
      ],
      "source": [
        "print(img.max())\n",
        "print(img.min())\n",
        "print(img.shape)"
      ]
    },
    {
      "cell_type": "code",
      "execution_count": 14,
      "metadata": {
        "colab": {
          "background_save": true
        },
        "id": "lWqpY7YKBXDA"
      },
      "outputs": [],
      "source": [
        "for row in range(img.shape[0]):\n",
        "  for column in range(img.shape[1]):\n",
        "    eachPixel = img.item(row,column)\n",
        "\n",
        "    if eachPixel > 155:\n",
        "      img.itemset((row,column), img.max())\n",
        "    else:\n",
        "      img.itemset((row,column), img.min())\n"
      ]
    },
    {
      "cell_type": "code",
      "execution_count": 15,
      "metadata": {
        "colab": {
          "base_uri": "https://localhost:8080/",
          "height": 739
        },
        "id": "flu66NO7CNEm",
        "outputId": "b295453c-d339-4844-e9b1-eda46f6fe11a"
      },
      "outputs": [
        {
          "data": {
            "text/plain": [
              "-1"
            ]
          },
          "execution_count": 15,
          "metadata": {},
          "output_type": "execute_result"
        }
      ],
      "source": [
        "cv2.imshow('gray-image-window',img)\n",
        "cv2.waitKey(1000)"
      ]
    }
  ],
  "metadata": {
    "colab": {
      "provenance": []
    },
    "interpreter": {
      "hash": "26de051ba29f2982a8de78e945f0abaf191376122a1563185a90213a26c5da77"
    },
    "kernelspec": {
      "display_name": "Python 3.10.6 64-bit",
      "language": "python",
      "name": "python3"
    },
    "language_info": {
      "codemirror_mode": {
        "name": "ipython",
        "version": 3
      },
      "file_extension": ".py",
      "mimetype": "text/x-python",
      "name": "python",
      "nbconvert_exporter": "python",
      "pygments_lexer": "ipython3",
      "version": "3.10.6"
    }
  },
  "nbformat": 4,
  "nbformat_minor": 0
}
